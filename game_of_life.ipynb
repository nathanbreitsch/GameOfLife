{
 "cells": [
  {
   "cell_type": "markdown",
   "metadata": {},
   "source": [
    "# Implementation of Conway's Game of Life \n",
    "## Using Convolution and Lebron James' Face"
   ]
  },
  {
   "cell_type": "code",
   "execution_count": null,
   "metadata": {
    "collapsed": false
   },
   "outputs": [],
   "source": [
    "%matplotlib inline\n",
    "import numpy as np\n",
    "import matplotlib.pyplot as plt\n",
    "from matplotlib import animation\n",
    "from skimage.color import rgb2gray \n",
    "from skimage.filters import threshold_otsu\n",
    "from scipy.ndimage import convolve\n",
    "from PIL import Image\n",
    "from IPython.display import HTML"
   ]
  },
  {
   "cell_type": "markdown",
   "metadata": {},
   "source": [
    "Let's begin by loading a picture of Lebron James into a Numpy Array"
   ]
  },
  {
   "cell_type": "code",
   "execution_count": null,
   "metadata": {
    "collapsed": false
   },
   "outputs": [],
   "source": [
    "lebron = np.array(Image.open('./lebron.jpeg'))\n",
    "plt.imshow(lebron)"
   ]
  },
  {
   "cell_type": "markdown",
   "metadata": {},
   "source": [
    "Next, lets get rid of the color since we only want one value per pixel."
   ]
  },
  {
   "cell_type": "code",
   "execution_count": null,
   "metadata": {
    "collapsed": false
   },
   "outputs": [],
   "source": [
    "lebron_gray = rgb2gray(lebron)\n",
    "plt.imshow(lebron_gray, cmap='Greys_r')"
   ]
  },
  {
   "cell_type": "markdown",
   "metadata": {},
   "source": [
    "Finally, we will threshold the image to ensure that all the values are either 0 or 1 as required by the non-probabilistic game of life."
   ]
  },
  {
   "cell_type": "code",
   "execution_count": null,
   "metadata": {
    "collapsed": false
   },
   "outputs": [],
   "source": [
    "threshold = threshold_otsu(lebron_gray) \n",
    "lebron_thresh = (lebron_gray > threshold).astype(int)\n",
    "fig=plt.figure()\n",
    "im = plt.imshow(lebron_thresh, cmap='Greys_r')"
   ]
  },
  {
   "cell_type": "markdown",
   "metadata": {},
   "source": [
    "We can count the neighbors for each cell using the 3x3 kernel shown below.  We then use numpy to determine whether there will be life in each cell during the next generation.  A cell will be alive in the next generation if either:\n",
    "    - There are three neighbors \n",
    "    - The cell is alive and there are two neighbors"
   ]
  },
  {
   "cell_type": "code",
   "execution_count": null,
   "metadata": {
    "collapsed": false
   },
   "outputs": [],
   "source": [
    "gol_kernel = np.array([\n",
    "        [1,1,1],\n",
    "        [1,0,1],\n",
    "        [1,1,1]\n",
    "    ])\n",
    "lebron_neighbor_count = convolve(lebron_thresh, gol_kernel)\n",
    "next_iter = (\n",
    "    ((lebron_neighbor_count == 2) & lebron_thresh) | \n",
    "    (lebron_neighbor_count == 3)                     \n",
    ").astype(int)\n",
    "plt.imshow(next_iter, cmap='Greys_r')"
   ]
  },
  {
   "cell_type": "code",
   "execution_count": null,
   "metadata": {
    "collapsed": true
   },
   "outputs": [],
   "source": [
    "def make_next_frame(prev):\n",
    "    neighbor_count = convolve(prev, gol_kernel)\n",
    "    next_iter = (\n",
    "        ((neighbor_count == 2) & prev) | \n",
    "        (neighbor_count == 3)                     \n",
    "    ).astype(int)\n",
    "    return next_iter"
   ]
  },
  {
   "cell_type": "code",
   "execution_count": null,
   "metadata": {
    "collapsed": false
   },
   "outputs": [],
   "source": [
    "frames = [lebron_thresh]\n",
    "frame_count = 80\n",
    "for i in range(0, frame_count-1):\n",
    "    curr_frame = frames[i]\n",
    "    next_frame = make_next_frame(curr_frame)\n",
    "    frames.append(next_frame)"
   ]
  },
  {
   "cell_type": "code",
   "execution_count": null,
   "metadata": {
    "collapsed": true
   },
   "outputs": [],
   "source": [
    "def updatefig(i):\n",
    "    im.set_array(frames[i])\n",
    "    return im,"
   ]
  },
  {
   "cell_type": "code",
   "execution_count": null,
   "metadata": {
    "collapsed": false
   },
   "outputs": [],
   "source": [
    "anim = animation.FuncAnimation(fig, updatefig, frames=range(frame_count), \n",
    "                              interval=50, blit=True)"
   ]
  },
  {
   "cell_type": "code",
   "execution_count": null,
   "metadata": {
    "collapsed": false
   },
   "outputs": [],
   "source": [
    "anim.save('animation.mp4', fps=30, extra_args=['-vcodec', 'libx264'])"
   ]
  },
  {
   "cell_type": "code",
   "execution_count": null,
   "metadata": {
    "collapsed": false
   },
   "outputs": [],
   "source": [
    "HTML(\"\"\"\n",
    "<video controls loop autoplay>\n",
    "  <source src=\"https://raw.githubusercontent.com/nathanbreitsch/GameOfLife/master/animation.mp4\" type=\"video/mp4\">\n",
    "</video>\n",
    "\"\"\")"
   ]
  },
  {
   "cell_type": "code",
   "execution_count": null,
   "metadata": {
    "collapsed": true
   },
   "outputs": [],
   "source": []
  }
 ],
 "metadata": {
  "kernelspec": {
   "display_name": "Python 3",
   "language": "python",
   "name": "python3"
  },
  "language_info": {
   "codemirror_mode": {
    "name": "ipython",
    "version": 3
   },
   "file_extension": ".py",
   "mimetype": "text/x-python",
   "name": "python",
   "nbconvert_exporter": "python",
   "pygments_lexer": "ipython3",
   "version": "3.5.1"
  }
 },
 "nbformat": 4,
 "nbformat_minor": 0
}
